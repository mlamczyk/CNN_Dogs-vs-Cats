{
 "cells": [
  {
   "cell_type": "markdown",
   "id": "1b103c3c-b52e-4323-874c-c2a85c6c2fd4",
   "metadata": {},
   "source": [
    "# CNN: Dogs vs Cats"
   ]
  },
  {
   "cell_type": "code",
   "execution_count": null,
   "id": "98ee3509-b703-43ee-a76b-0b2ef2bc10f2",
   "metadata": {},
   "outputs": [],
   "source": []
  }
 ],
 "metadata": {
  "kernelspec": {
   "display_name": "Python 3 (ipykernel)",
   "language": "python",
   "name": "python3"
  },
  "language_info": {
   "codemirror_mode": {
    "name": "ipython",
    "version": 3
   },
   "file_extension": ".py",
   "mimetype": "text/x-python",
   "name": "python",
   "nbconvert_exporter": "python",
   "pygments_lexer": "ipython3",
   "version": "3.10.0"
  }
 },
 "nbformat": 4,
 "nbformat_minor": 5
}
