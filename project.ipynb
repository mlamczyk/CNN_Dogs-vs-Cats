{
 "cells": [
  {
   "cell_type": "markdown",
   "id": "1b103c3c-b52e-4323-874c-c2a85c6c2fd4",
   "metadata": {},
   "source": [
    "# Eigenfaces: Dogs and Cats"
   ]
  },
  {
   "cell_type": "markdown",
   "id": "73a8705e-5c29-43c5-ac71-02bb6f6cd03d",
   "metadata": {},
   "source": [
    "Based on the article: L. Sirovich and M. Kirby; \"Low-dimensional procedure for the characterization of human faces.\""
   ]
  },
  {
   "cell_type": "markdown",
   "id": "4a735c44-f964-40dc-9fbc-cf8e7311fd50",
   "metadata": {},
   "source": [
    "## Imports"
   ]
  },
  {
   "cell_type": "code",
   "execution_count": null,
   "id": "a2f816a8-0e30-4083-87b3-5802f34f49bf",
   "metadata": {},
   "outputs": [],
   "source": [
    "import os\n",
    "import cv2\n",
    "import numpy as np\n",
    "import matplotlib.pyplot as plt\n",
    "from sklearn.decomposition import PCA\n",
    "from sklearn.model_selection import train_test_split\n",
    "from sklearn.svm import SVC\n",
    "from sklearn.metrics import accuracy_score, classification_report"
   ]
  },
  {
   "cell_type": "markdown",
   "id": "657dad3f-f428-462e-a695-7797c48f0769",
   "metadata": {},
   "source": [
    "## Data collection"
   ]
  },
  {
   "cell_type": "code",
   "execution_count": null,
   "id": "1b302aca-0375-4d42-bec5-8a9da1e680ee",
   "metadata": {},
   "outputs": [],
   "source": []
  },
  {
   "cell_type": "markdown",
   "id": "f92bb6e6-dfd2-40f6-81aa-22a4fc30f62e",
   "metadata": {},
   "source": [
    "## Data normalization and preparation"
   ]
  },
  {
   "cell_type": "code",
   "execution_count": null,
   "id": "50dbe114-d78a-46fb-9909-6d65286d345c",
   "metadata": {},
   "outputs": [],
   "source": [
    "# transformation to a uniform format (e.g. in grayscale, resolution)\n",
    "# reduce differences in lighting or animal orientation"
   ]
  },
  {
   "cell_type": "markdown",
   "id": "3d6e3f8f-f1ed-45e7-ad94-5d79eadedf44",
   "metadata": {},
   "source": [
    "## Converting images to matrices"
   ]
  },
  {
   "cell_type": "code",
   "execution_count": null,
   "id": "7fb72a6d-5ada-4d5a-93f7-8d59631ce769",
   "metadata": {},
   "outputs": [],
   "source": [
    "# convert images into pixel value matrices\n",
    "# each image will become a data vector, where each pixel is one value of the vector"
   ]
  },
  {
   "cell_type": "markdown",
   "id": "9d6ac1de-dd27-4605-b9c3-95d3f6a57f63",
   "metadata": {},
   "source": [
    "## Calculation of the average image"
   ]
  },
  {
   "cell_type": "code",
   "execution_count": null,
   "id": "ea6c1117-43b0-48b0-bdef-b6ec345db262",
   "metadata": {},
   "outputs": [],
   "source": [
    "# calculate the average image from a set of photos by summing the pixel values of each image and dividing by the number of images"
   ]
  },
  {
   "cell_type": "markdown",
   "id": "037a0a19-0780-45cd-95a6-43a939c85387",
   "metadata": {},
   "source": [
    "## Calculation of the deviation from the average image"
   ]
  },
  {
   "cell_type": "code",
   "execution_count": null,
   "id": "062ae4a0-25c5-4744-949a-545557467cd4",
   "metadata": {},
   "outputs": [],
   "source": [
    "# subtract the mean image from each image to obtain the deviation matrices"
   ]
  },
  {
   "cell_type": "markdown",
   "id": "d666b168-72f1-499c-b543-bf4e07e0d50e",
   "metadata": {},
   "source": [
    "## Construction of the covariance matrix"
   ]
  },
  {
   "cell_type": "code",
   "execution_count": null,
   "id": "21d351df-12a0-4ce2-86f6-14e66b523dae",
   "metadata": {},
   "outputs": [],
   "source": [
    "# use the deviations to build a covariance matrix\n",
    "# this matrix will represent how pixels differ from the mean relative to each other"
   ]
  },
  {
   "cell_type": "markdown",
   "id": "efd16ec3-deb3-41c6-a22a-770286e80ae5",
   "metadata": {},
   "source": [
    "## Calculation of eigenvalues and vectors"
   ]
  },
  {
   "cell_type": "code",
   "execution_count": null,
   "id": "c5eecf7e-ca16-4f97-a844-2ba935ea7eed",
   "metadata": {},
   "outputs": [],
   "source": [
    "# calculate the eigenvalues and eigenvectors of the covariance matrix\n",
    "# the eigenvectors will be \"eigenpictures\" (eigenanimals), which are the main components of the image"
   ]
  },
  {
   "cell_type": "markdown",
   "id": "7e04790c-6851-4408-88a9-8aee2c540981",
   "metadata": {},
   "source": [
    "## Image reconstruction"
   ]
  },
  {
   "cell_type": "code",
   "execution_count": null,
   "id": "a61317a1-c898-40d7-b9de-b14931e805ad",
   "metadata": {},
   "outputs": [],
   "source": [
    "# each image can now be expressed as a linear combination of these eigenanimals\n",
    "# this allows you to reduce the amount of data by storing only the coefficients of this combination"
   ]
  },
  {
   "cell_type": "markdown",
   "id": "289eb212-3b47-42d2-bee7-53a3c418d199",
   "metadata": {},
   "source": [
    "## Classification"
   ]
  },
  {
   "cell_type": "code",
   "execution_count": null,
   "id": "de47e289-40ce-4851-87f0-fe770863715d",
   "metadata": {},
   "outputs": [],
   "source": [
    "# classification using eigenfaces coefficients"
   ]
  },
  {
   "cell_type": "markdown",
   "id": "2d236369-082d-4407-be24-dd0e13ca87d3",
   "metadata": {},
   "source": [
    "---"
   ]
  },
  {
   "cell_type": "markdown",
   "id": "d8539554-40fe-4837-b22a-8ea7b383b703",
   "metadata": {},
   "source": [
    "### PCA metodą Sirovicha i Kirby'ego"
   ]
  },
  {
   "cell_type": "code",
   "execution_count": null,
   "id": "83ef6200-4cb0-4952-9fa2-30a31535ac51",
   "metadata": {},
   "outputs": [],
   "source": [
    "import os\n",
    "import cv2\n",
    "import numpy as np\n",
    "from sklearn.decomposition import PCA\n",
    "import matplotlib.pyplot as plt\n",
    "\n",
    "def load_images_from_folder(folder, size=(100, 100)):\n",
    "    images = []\n",
    "    for filename in os.listdir(folder):\n",
    "        img = cv2.imread(os.path.join(folder, filename))\n",
    "        if img is not None:\n",
    "            img = cv2.resize(img, size)\n",
    "            img = cv2.cvtColor(img, cv2.COLOR_BGR2GRAY)  # Konwersja do skali szarości\n",
    "            images.append(img.flatten())\n",
    "    return images\n",
    "\n",
    "\n",
    "# Ładowanie obrazów kotów i psów\n",
    "cat_images = load_images_from_folder('cat', size=(100, 100))\n",
    "dog_images = load_images_from_folder('dog', size=(100, 100))\n",
    "\n",
    "# Łączenie obrazów kotów i psów w jeden zbiór danych\n",
    "all_images = np.array(cat_images + dog_images)\n",
    "\n",
    "# Normalizacja danych\n",
    "mean_image = np.mean(all_images, axis=0)\n",
    "centered_images = all_images - mean_image\n",
    "\n",
    "# Przeprowadzenie PCA\n",
    "pca = PCA(n_components=50)  # Liczba głównych składowych\n",
    "pca.fit(centered_images)\n",
    "\n",
    "eigenfaces = pca.components_.reshape((50, 100, 100))\n",
    "\n",
    "# Wizualizacja eigenfaces\n",
    "fig, axes = plt.subplots(5, 10, figsize=(15, 8))\n",
    "for i, ax in enumerate(axes.flat):\n",
    "    ax.imshow(eigenfaces[i], cmap='gray')\n",
    "    ax.axis('off')\n",
    "plt.show()\n",
    "\n",
    "# Rekonstrukcja obrazów\n",
    "reconstructed_images = pca.inverse_transform(pca.transform(centered_images))\n",
    "reconstructed_images = reconstructed_images.reshape((-1, 100, 100))\n",
    "\n",
    "# Wizualizacja oryginalnych i zrekonstruowanych obrazów\n",
    "fig, axes = plt.subplots(2, 10, figsize=(15, 4))\n",
    "for i in range(10):\n",
    "    # Oryginalne obrazy\n",
    "    ax = fig.add_subplot(2, 10, i + 1)\n",
    "    ax.imshow(all_images[i].reshape(100, 100), cmap='gray')\n",
    "    ax.axis('off')\n",
    "\n",
    "    # Zrekonstruowane obrazy\n",
    "    ax = fig.add_subplot(2, 10, i + 11)\n",
    "    ax.imshow(reconstructed_images[i], cmap='gray')\n",
    "    ax.axis('off')\n",
    "plt.show()"
   ]
  },
  {
   "cell_type": "markdown",
   "id": "e30025c1-e580-44c8-acc4-3ecfe213b84f",
   "metadata": {},
   "source": [
    "## Przygotowanie danych i obliczenie eigenfaces"
   ]
  },
  {
   "cell_type": "code",
   "execution_count": null,
   "id": "769f7c68-c1e8-45a5-8677-25e3d8421509",
   "metadata": {},
   "outputs": [],
   "source": [
    "import os\n",
    "import cv2\n",
    "import numpy as np\n",
    "from sklearn.decomposition import PCA\n",
    "import matplotlib.pyplot as plt\n",
    "from sklearn.model_selection import train_test_split\n",
    "from sklearn.svm import SVC\n",
    "from sklearn.metrics import accuracy_score, classification_report\n",
    "\n",
    "# Funkcja do ładowania obrazów i przekształcania ich na wektory\n",
    "def load_images_from_folder(folder, size=(100, 100)):\n",
    "    images = []\n",
    "    for filename in os.listdir(folder):\n",
    "        img = cv2.imread(os.path.join(folder, filename))\n",
    "        if img is not None:\n",
    "            img = cv2.resize(img, size)\n",
    "            img = cv2.cvtColor(img, cv2.COLOR_BGR2GRAY)  # Konwersja do skali szarości\n",
    "            images.append(img.flatten())\n",
    "    return images\n",
    "\n",
    "\n",
    "# Ładowanie obrazów kotów i psów\n",
    "cat_images = load_images_from_folder('cat', size=(100, 100))\n",
    "dog_images = load_images_from_folder('dog', size=(100, 100))\n",
    "\n",
    "# Łączenie obrazów kotów i psów w jeden zbiór danych\n",
    "all_images = np.array(cat_images + dog_images)\n",
    "labels = np.array([0] * len(cat_images) + [1] * len(dog_images))  # 0 = kot, 1 = pies\n",
    "\n",
    "# Normalizacja danych\n",
    "mean_image = np.mean(all_images, axis=0)\n",
    "centered_images = all_images - mean_image\n",
    "\n",
    "# Przeprowadzenie PCA\n",
    "n_components = 50\n",
    "pca = PCA(n_components=n_components)\n",
    "pca.fit(centered_images)\n",
    "\n",
    "# Ekstrakcja współczynników eigenfaces\n",
    "eigenfaces = pca.components_.reshape((n_components, 100, 100))\n",
    "transformed_images = pca.transform(centered_images)"
   ]
  },
  {
   "cell_type": "markdown",
   "id": "ba591bf5-63d3-43a4-9ab5-0d64d5c89640",
   "metadata": {},
   "source": [
    "## Ekstrakcja współczynników eigenfaces\n",
    "Współczynniki eigenfaces to wyniki transformacji PCA (transformed_images), które mogą być używane jako cechy do klasyfikacji."
   ]
  },
  {
   "cell_type": "markdown",
   "id": "ab5ab0ca-29c2-4dd4-9c70-f1e78cf0ebb4",
   "metadata": {},
   "source": [
    "## Klasyfikacja\n",
    "Użyjemy współczynników eigenfaces do trenowania modelu klasyfikacji SVM."
   ]
  },
  {
   "cell_type": "code",
   "execution_count": null,
   "id": "120c84ab-4a09-41a6-b65c-c112e58581bf",
   "metadata": {},
   "outputs": [],
   "source": [
    "# Podział danych na zbiór treningowy i testowy\n",
    "X_train, X_test, y_train, y_test = train_test_split(transformed_images, labels, test_size=0.2, random_state=42)\n",
    "\n",
    "# Trenowanie modelu SVM\n",
    "svm = SVC(kernel='linear', C=1.0, random_state=42)\n",
    "svm.fit(X_train, y_train)\n",
    "\n",
    "# Predykcja na zbiorze testowym\n",
    "y_pred = svm.predict(X_test)\n",
    "\n",
    "# Ocena modelu\n",
    "accuracy = accuracy_score(y_test, y_pred)\n",
    "print(f\"Dokładność: {accuracy * 100:.2f}%\")\n",
    "print(\"Raport klasyfikacji:\\n\", classification_report(y_test, y_pred, target_names=['Kot', 'Pies']))"
   ]
  },
  {
   "cell_type": "markdown",
   "id": "90e44b41-69a2-48ff-8bba-3b2bc2e60b7c",
   "metadata": {},
   "source": [
    "## Podsumowanie kodu:\n",
    "- Ładowanie i przetwarzanie obrazów: Ładowanie obrazów kotów i psów, zmniejszanie rozmiaru do 100x100 pikseli i konwersja do skali szarości.\n",
    "- Przygotowanie danych: Obliczenie średniego obrazu i przekształcenie obrazów na macierz odchyleń.\n",
    "- PCA: Przeprowadzenie PCA, aby uzyskać główne składowe (eigenfaces) i przekształcenie obrazów na współczynniki eigenfaces.\n",
    "- Klasyfikacja: Podział danych na zbiór treningowy i testowy, trenowanie modelu SVM na współczynnikach eigenfaces, predykcja i ocena modelu."
   ]
  },
  {
   "cell_type": "code",
   "execution_count": null,
   "id": "da54939f-0223-481b-8aed-a6a81afcae24",
   "metadata": {},
   "outputs": [],
   "source": []
  }
 ],
 "metadata": {
  "kernelspec": {
   "display_name": "Python 3 (ipykernel)",
   "language": "python",
   "name": "python3"
  },
  "language_info": {
   "codemirror_mode": {
    "name": "ipython",
    "version": 3
   },
   "file_extension": ".py",
   "mimetype": "text/x-python",
   "name": "python",
   "nbconvert_exporter": "python",
   "pygments_lexer": "ipython3",
   "version": "3.10.0"
  }
 },
 "nbformat": 4,
 "nbformat_minor": 5
}
